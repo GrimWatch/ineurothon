{
  "cells": [
    {
      "cell_type": "markdown",
      "metadata": {
        "colab_type": "text",
        "id": "view-in-github"
      },
      "source": [
        "<a href=\"https://colab.research.google.com/github/GrimWatch/ineurothon/blob/main/neuronActivated.ipynb\" target=\"_parent\"><img src=\"https://colab.research.google.com/assets/colab-badge.svg\" alt=\"Open In Colab\"/></a>"
      ]
    },
    {
      "cell_type": "code",
      "execution_count": 1,
      "metadata": {
        "colab": {
          "base_uri": "https://localhost:8080/"
        },
        "id": "_aBMGTewKkHM",
        "outputId": "4b7910b1-9f66-47db-c7d5-29c396a5fbb7"
      },
<<<<<<< HEAD
      "outputs": [
        {
          "name": "stdout",
          "output_type": "stream",
          "text": [
            "hello word\n"
          ]
        }
      ],
      "source": [
        "print(\"hello word\")\n",
        "\n",
        "#commit by DSVV"
=======
      "outputs": [],
      "source": [
        "import numpy as np\n",
        "import pandas as pd\n",
        "import matplotlib.pyplot as plt\n",
        "import seaborn as sns\n",
        "import mpl_toolkits\n",
        "%matplotlib inline\n",
        "#commit by grim"
>>>>>>> b6bf186df9a6807b5a87c106d7f29f0685567261
      ]
    }
  ],
  "metadata": {
    "colab": {
      "authorship_tag": "ABX9TyMjH/kZxWJ/ekyvUl5+pVWJ",
      "include_colab_link": true,
      "name": "neuronActivated.ipynb",
      "provenance": []
    },
    "kernelspec": {
<<<<<<< HEAD
      "display_name": "Python 3",
      "name": "python3"
    },
    "language_info": {
      "name": "python"
=======
      "display_name": "Python 3.10.4 64-bit",
      "language": "python",
      "name": "python3"
    },
    "language_info": {
      "codemirror_mode": {
        "name": "ipython",
        "version": 3
      },
      "file_extension": ".py",
      "mimetype": "text/x-python",
      "name": "python",
      "nbconvert_exporter": "python",
      "pygments_lexer": "ipython3",
      "version": "3.10.4"
    },
    "vscode": {
      "interpreter": {
        "hash": "73dd3e9b8560be4eb6b5d0b09c06c2ef1dcaada477697451385c3e06c6541382"
      }
>>>>>>> b6bf186df9a6807b5a87c106d7f29f0685567261
    }
  },
  "nbformat": 4,
  "nbformat_minor": 0
}
